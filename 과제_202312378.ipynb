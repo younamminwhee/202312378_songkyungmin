{
  "cells": [
    {
      "cell_type": "markdown",
      "id": "1bea44b5",
      "metadata": {
        "id": "1bea44b5"
      },
      "source": [
        "\n",
        "# 📘 과제 1 — 세 개의 수의 평균을 구하는 함수 (다양한 시도)\n",
        "\n",
        "---\n",
        "\n",
        "### 문제 설명\n",
        "사용자로부터 세 개의 수를 입력받아 세 수의 **평균을 계산하여 출력하는 함수**를 작성.\n",
        "\n",
        "### 시도사항 설명\n",
        "1. `get_average(a, b, c)` 함수를 정의할 것  \n",
        "2. 세 수를 `input()`으로 입력받아 `float`형으로 변환  \n",
        "3. 평균값을 계산 후 출력할 것  \n",
        "4. 다양한 방법으로 시도하여 비교할 것\n",
        "\n",
        "---\n"
      ]
    },
    {
      "cell_type": "markdown",
      "id": "aa3b800b",
      "metadata": {
        "id": "aa3b800b"
      },
      "source": [
        "### 시도 ①: 기본형 함수"
      ]
    },
    {
      "cell_type": "code",
      "execution_count": null,
      "id": "e89bf174",
      "metadata": {
        "colab": {
          "base_uri": "https://localhost:8080/"
        },
        "id": "e89bf174",
        "outputId": "a3aa8f2c-3f1f-4927-c7d2-4a22b46b2fab"
      },
      "outputs": [
        {
          "output_type": "stream",
          "name": "stdout",
          "text": [
            "기본형: 4.5\n"
          ]
        }
      ],
      "source": [
        "\n",
        "def get_average_basic(a, b, c):\n",
        "    return (a + b + c) / 3\n",
        "\n",
        "print(\"기본형:\", get_average_basic(3, 4.5, 6))\n"
      ]
    },
    {
      "cell_type": "markdown",
      "id": "aef4adaf",
      "metadata": {
        "id": "aef4adaf"
      },
      "source": [
        "### 시도 ②: 리스트와 sum() / len() 활용"
      ]
    },
    {
      "cell_type": "code",
      "execution_count": null,
      "id": "528e55e2",
      "metadata": {
        "colab": {
          "base_uri": "https://localhost:8080/"
        },
        "id": "528e55e2",
        "outputId": "b2bb9d7b-78d7-4788-dcda-3c0394409191"
      },
      "outputs": [
        {
          "output_type": "stream",
          "name": "stdout",
          "text": [
            "리스트형: 4.5\n"
          ]
        }
      ],
      "source": [
        "\n",
        "def get_average_list(nums):\n",
        "    return sum(nums) / len(nums)\n",
        "\n",
        "print(\"리스트형:\", get_average_list([3, 4.5, 6]))\n"
      ]
    },
    {
      "cell_type": "markdown",
      "id": "30f8f198",
      "metadata": {
        "id": "30f8f198"
      },
      "source": [
        "### 시도 ③: 가변 인자 *args 사용"
      ]
    },
    {
      "cell_type": "code",
      "execution_count": null,
      "id": "91b55acf",
      "metadata": {
        "colab": {
          "base_uri": "https://localhost:8080/"
        },
        "id": "91b55acf",
        "outputId": "43c2a047-5a0d-4485-e8ad-7c391c8acd31"
      },
      "outputs": [
        {
          "output_type": "stream",
          "name": "stdout",
          "text": [
            "가변 인자형: 4.5\n"
          ]
        }
      ],
      "source": [
        "\n",
        "def get_average_args(*args):\n",
        "    if not args:\n",
        "        return 0\n",
        "    return sum(args) / len(args)\n",
        "\n",
        "print(\"가변 인자형:\", get_average_args(3, 4.5, 6))\n"
      ]
    },
    {
      "cell_type": "markdown",
      "id": "c4fd808c",
      "metadata": {
        "id": "c4fd808c"
      },
      "source": [
        "### 시도 ④: 입력을 한 줄에 받기 + map() 함수 사용"
      ]
    },
    {
      "cell_type": "code",
      "execution_count": null,
      "id": "a2c4b8ef",
      "metadata": {
        "colab": {
          "base_uri": "https://localhost:8080/"
        },
        "id": "a2c4b8ef",
        "outputId": "b1f97e8d-8633-4356-f213-1804dd829694"
      },
      "outputs": [
        {
          "output_type": "stream",
          "name": "stdout",
          "text": [
            "세 개의 숫자를 공백으로 구분하여 입력하세요: 2 5 6\n",
            "한 줄 입력형 평균: 4.33\n"
          ]
        }
      ],
      "source": [
        "\n",
        "def get_average_input():\n",
        "    nums = list(map(float, input(\"세 개의 숫자를 공백으로 구분하여 입력하세요: \").split()))\n",
        "    return sum(nums) / len(nums)\n",
        "\n",
        "# 예시 실행\n",
        "average = get_average_input()\n",
        "print(f\"한 줄 입력형 평균: {average:.2f}\")\n"
      ]
    },
    {
      "cell_type": "markdown",
      "id": "86e2fa74",
      "metadata": {
        "id": "86e2fa74"
      },
      "source": [
        "### 시도 ⑤: numpy 활용"
      ]
    },
    {
      "cell_type": "code",
      "execution_count": null,
      "id": "0e4ed7fc",
      "metadata": {
        "colab": {
          "base_uri": "https://localhost:8080/"
        },
        "id": "0e4ed7fc",
        "outputId": "302bcbc4-49ae-4b1e-d447-d79d54b092c9"
      },
      "outputs": [
        {
          "output_type": "stream",
          "name": "stdout",
          "text": [
            "NumPy형: 4.5\n"
          ]
        }
      ],
      "source": [
        "\n",
        "import numpy as np\n",
        "\n",
        "def get_average_numpy(a, b, c):\n",
        "    arr = np.array([a, b, c])\n",
        "    return np.mean(arr)\n",
        "\n",
        "print(\"NumPy형:\", get_average_numpy(3, 4.5, 6))\n"
      ]
    },
    {
      "cell_type": "markdown",
      "id": "fd4e8aaa",
      "metadata": {
        "id": "fd4e8aaa"
      },
      "source": [
        "### 시도 ⑥: 예외 처리 추가"
      ]
    },
    {
      "cell_type": "code",
      "execution_count": null,
      "id": "3f9394be",
      "metadata": {
        "colab": {
          "base_uri": "https://localhost:8080/"
        },
        "id": "3f9394be",
        "outputId": "217606f5-f06c-4d6b-b6cf-8e90f9bb6af8"
      },
      "outputs": [
        {
          "output_type": "stream",
          "name": "stdout",
          "text": [
            "예외 처리형: 4.5\n",
            "예외 처리형(오류 입력): 숫자를 입력해야 합니다!\n"
          ]
        }
      ],
      "source": [
        "\n",
        "def get_average_safe(a, b, c):\n",
        "    try:\n",
        "        a, b, c = float(a), float(b), float(c)\n",
        "        return (a + b + c) / 3\n",
        "    except ValueError:\n",
        "        return \"숫자를 입력해야 합니다!\"\n",
        "\n",
        "print(\"예외 처리형:\", get_average_safe(\"3\", \"4.5\", \"6\"))\n",
        "print(\"예외 처리형(오류 입력):\", get_average_safe(\"a\", \"2\", \"5\"))\n"
      ]
    },
    {
      "cell_type": "markdown",
      "id": "5d0df6af",
      "metadata": {
        "id": "5d0df6af"
      },
      "source": [
        "### 시도 ⑦: Lambda (한 줄 함수)"
      ]
    },
    {
      "cell_type": "code",
      "execution_count": null,
      "id": "f75b80f4",
      "metadata": {
        "colab": {
          "base_uri": "https://localhost:8080/"
        },
        "id": "f75b80f4",
        "outputId": "f389a35f-b252-47f2-f92f-3775b6b4b616"
      },
      "outputs": [
        {
          "output_type": "stream",
          "name": "stdout",
          "text": [
            "Lambda형: 4.5\n"
          ]
        }
      ],
      "source": [
        "\n",
        "avg = lambda a, b, c: (a + b + c) / 3\n",
        "print(\"Lambda형:\", avg(3, 4.5, 6))\n"
      ]
    },
    {
      "cell_type": "markdown",
      "id": "065a239a",
      "metadata": {
        "id": "065a239a"
      },
      "source": [
        "\n",
        "---\n",
        "### 정리표\n",
        "\n",
        "| 시도 번호 | 함수 이름 | 특징 |\n",
        "|------------|------------|--------|\n",
        "| ① | `get_average_basic` | 기본적인 함수 구조 |\n",
        "| ② | `get_average_list` | `sum()`과 `len()` 활용 |\n",
        "| ③ | `get_average_args` | 가변 인자 지원 |\n",
        "| ④ | `get_average_input` | 한 줄 입력형 |\n",
        "| ⑤ | `get_average_numpy` | NumPy 활용 |\n",
        "| ⑥ | `get_average_safe` | 예외 처리 포함 |\n",
        "| ⑦ | `lambda` | 익명 함수형 |\n",
        "\n",
        "---\n",
        "\n"
      ]
    },
    {
      "cell_type": "markdown",
      "source": [
        "#2번 과제 : 11단\n",
        "##11단부터 20단까지 각각 한 줄에,\n",
        "\n",
        "1부터 19까지 곱한 결과를 한 줄에 이어서 출력하고,\n",
        "\n",
        "다음 줄에는 그 다음 단이 오도록 표시하고 다양한 시도와\n",
        "\n",
        "실행 결과를 예시로 표현했습니다."
      ],
      "metadata": {
        "id": "zhPnpw0x4aZo"
      },
      "id": "zhPnpw0x4aZo"
    },
    {
      "cell_type": "markdown",
      "source": [
        "###시도 ①"
      ],
      "metadata": {
        "id": "wAgV0q_MFOrp"
      },
      "id": "wAgV0q_MFOrp"
    },
    {
      "cell_type": "code",
      "source": [
        "# -----------------------------------\n",
        "# 📘 과제 2 : 11단부터 20단 (1~19까지) 초창기 시도\n",
        "# -----------------------------------\n",
        "\n",
        "for dan in range(11, 21):                # 11단부터 20단까지\n",
        "    print(f\"=== {dan}단 ===\")\n",
        "    for i in range(1, 20):               # 1부터 19까지\n",
        "        print(f\"{dan} x {i} = {dan * i}\")\n",
        "    print()                              # 단 간 구분용 줄바꿈\n"
      ],
      "metadata": {
        "colab": {
          "base_uri": "https://localhost:8080/"
        },
        "collapsed": true,
        "id": "lCu-LoJn3kqX",
        "outputId": "c2d3a446-b868-4518-fcf4-86069b19a73a"
      },
      "id": "lCu-LoJn3kqX",
      "execution_count": null,
      "outputs": [
        {
          "output_type": "stream",
          "name": "stdout",
          "text": [
            "=== 11단 ===\n",
            "11 x 1 = 11\n",
            "11 x 2 = 22\n",
            "11 x 3 = 33\n",
            "11 x 4 = 44\n",
            "11 x 5 = 55\n",
            "11 x 6 = 66\n",
            "11 x 7 = 77\n",
            "11 x 8 = 88\n",
            "11 x 9 = 99\n",
            "11 x 10 = 110\n",
            "11 x 11 = 121\n",
            "11 x 12 = 132\n",
            "11 x 13 = 143\n",
            "11 x 14 = 154\n",
            "11 x 15 = 165\n",
            "11 x 16 = 176\n",
            "11 x 17 = 187\n",
            "11 x 18 = 198\n",
            "11 x 19 = 209\n",
            "\n",
            "=== 12단 ===\n",
            "12 x 1 = 12\n",
            "12 x 2 = 24\n",
            "12 x 3 = 36\n",
            "12 x 4 = 48\n",
            "12 x 5 = 60\n",
            "12 x 6 = 72\n",
            "12 x 7 = 84\n",
            "12 x 8 = 96\n",
            "12 x 9 = 108\n",
            "12 x 10 = 120\n",
            "12 x 11 = 132\n",
            "12 x 12 = 144\n",
            "12 x 13 = 156\n",
            "12 x 14 = 168\n",
            "12 x 15 = 180\n",
            "12 x 16 = 192\n",
            "12 x 17 = 204\n",
            "12 x 18 = 216\n",
            "12 x 19 = 228\n",
            "\n",
            "=== 13단 ===\n",
            "13 x 1 = 13\n",
            "13 x 2 = 26\n",
            "13 x 3 = 39\n",
            "13 x 4 = 52\n",
            "13 x 5 = 65\n",
            "13 x 6 = 78\n",
            "13 x 7 = 91\n",
            "13 x 8 = 104\n",
            "13 x 9 = 117\n",
            "13 x 10 = 130\n",
            "13 x 11 = 143\n",
            "13 x 12 = 156\n",
            "13 x 13 = 169\n",
            "13 x 14 = 182\n",
            "13 x 15 = 195\n",
            "13 x 16 = 208\n",
            "13 x 17 = 221\n",
            "13 x 18 = 234\n",
            "13 x 19 = 247\n",
            "\n",
            "=== 14단 ===\n",
            "14 x 1 = 14\n",
            "14 x 2 = 28\n",
            "14 x 3 = 42\n",
            "14 x 4 = 56\n",
            "14 x 5 = 70\n",
            "14 x 6 = 84\n",
            "14 x 7 = 98\n",
            "14 x 8 = 112\n",
            "14 x 9 = 126\n",
            "14 x 10 = 140\n",
            "14 x 11 = 154\n",
            "14 x 12 = 168\n",
            "14 x 13 = 182\n",
            "14 x 14 = 196\n",
            "14 x 15 = 210\n",
            "14 x 16 = 224\n",
            "14 x 17 = 238\n",
            "14 x 18 = 252\n",
            "14 x 19 = 266\n",
            "\n",
            "=== 15단 ===\n",
            "15 x 1 = 15\n",
            "15 x 2 = 30\n",
            "15 x 3 = 45\n",
            "15 x 4 = 60\n",
            "15 x 5 = 75\n",
            "15 x 6 = 90\n",
            "15 x 7 = 105\n",
            "15 x 8 = 120\n",
            "15 x 9 = 135\n",
            "15 x 10 = 150\n",
            "15 x 11 = 165\n",
            "15 x 12 = 180\n",
            "15 x 13 = 195\n",
            "15 x 14 = 210\n",
            "15 x 15 = 225\n",
            "15 x 16 = 240\n",
            "15 x 17 = 255\n",
            "15 x 18 = 270\n",
            "15 x 19 = 285\n",
            "\n",
            "=== 16단 ===\n",
            "16 x 1 = 16\n",
            "16 x 2 = 32\n",
            "16 x 3 = 48\n",
            "16 x 4 = 64\n",
            "16 x 5 = 80\n",
            "16 x 6 = 96\n",
            "16 x 7 = 112\n",
            "16 x 8 = 128\n",
            "16 x 9 = 144\n",
            "16 x 10 = 160\n",
            "16 x 11 = 176\n",
            "16 x 12 = 192\n",
            "16 x 13 = 208\n",
            "16 x 14 = 224\n",
            "16 x 15 = 240\n",
            "16 x 16 = 256\n",
            "16 x 17 = 272\n",
            "16 x 18 = 288\n",
            "16 x 19 = 304\n",
            "\n",
            "=== 17단 ===\n",
            "17 x 1 = 17\n",
            "17 x 2 = 34\n",
            "17 x 3 = 51\n",
            "17 x 4 = 68\n",
            "17 x 5 = 85\n",
            "17 x 6 = 102\n",
            "17 x 7 = 119\n",
            "17 x 8 = 136\n",
            "17 x 9 = 153\n",
            "17 x 10 = 170\n",
            "17 x 11 = 187\n",
            "17 x 12 = 204\n",
            "17 x 13 = 221\n",
            "17 x 14 = 238\n",
            "17 x 15 = 255\n",
            "17 x 16 = 272\n",
            "17 x 17 = 289\n",
            "17 x 18 = 306\n",
            "17 x 19 = 323\n",
            "\n",
            "=== 18단 ===\n",
            "18 x 1 = 18\n",
            "18 x 2 = 36\n",
            "18 x 3 = 54\n",
            "18 x 4 = 72\n",
            "18 x 5 = 90\n",
            "18 x 6 = 108\n",
            "18 x 7 = 126\n",
            "18 x 8 = 144\n",
            "18 x 9 = 162\n",
            "18 x 10 = 180\n",
            "18 x 11 = 198\n",
            "18 x 12 = 216\n",
            "18 x 13 = 234\n",
            "18 x 14 = 252\n",
            "18 x 15 = 270\n",
            "18 x 16 = 288\n",
            "18 x 17 = 306\n",
            "18 x 18 = 324\n",
            "18 x 19 = 342\n",
            "\n",
            "=== 19단 ===\n",
            "19 x 1 = 19\n",
            "19 x 2 = 38\n",
            "19 x 3 = 57\n",
            "19 x 4 = 76\n",
            "19 x 5 = 95\n",
            "19 x 6 = 114\n",
            "19 x 7 = 133\n",
            "19 x 8 = 152\n",
            "19 x 9 = 171\n",
            "19 x 10 = 190\n",
            "19 x 11 = 209\n",
            "19 x 12 = 228\n",
            "19 x 13 = 247\n",
            "19 x 14 = 266\n",
            "19 x 15 = 285\n",
            "19 x 16 = 304\n",
            "19 x 17 = 323\n",
            "19 x 18 = 342\n",
            "19 x 19 = 361\n",
            "\n",
            "=== 20단 ===\n",
            "20 x 1 = 20\n",
            "20 x 2 = 40\n",
            "20 x 3 = 60\n",
            "20 x 4 = 80\n",
            "20 x 5 = 100\n",
            "20 x 6 = 120\n",
            "20 x 7 = 140\n",
            "20 x 8 = 160\n",
            "20 x 9 = 180\n",
            "20 x 10 = 200\n",
            "20 x 11 = 220\n",
            "20 x 12 = 240\n",
            "20 x 13 = 260\n",
            "20 x 14 = 280\n",
            "20 x 15 = 300\n",
            "20 x 16 = 320\n",
            "20 x 17 = 340\n",
            "20 x 18 = 360\n",
            "20 x 19 = 380\n",
            "\n"
          ]
        }
      ]
    },
    {
      "cell_type": "markdown",
      "source": [
        "###시도 ②"
      ],
      "metadata": {
        "id": "ZMysCXsnFSu4"
      },
      "id": "ZMysCXsnFSu4"
    },
    {
      "cell_type": "code",
      "source": [
        "for dan in range(11, 21):\n",
        "    line = [f\"{dan}x{i}={dan*i}\" for i in range(1, 20)] #두 번째 시도\n",
        "    print(\" | \".join(line))\n"
      ],
      "metadata": {
        "colab": {
          "base_uri": "https://localhost:8080/"
        },
        "id": "0-ZklXM33oj4",
        "outputId": "d801368e-1edd-43e2-db20-82d3f000f806"
      },
      "id": "0-ZklXM33oj4",
      "execution_count": null,
      "outputs": [
        {
          "output_type": "stream",
          "name": "stdout",
          "text": [
            "11x1=11 | 11x2=22 | 11x3=33 | 11x4=44 | 11x5=55 | 11x6=66 | 11x7=77 | 11x8=88 | 11x9=99 | 11x10=110 | 11x11=121 | 11x12=132 | 11x13=143 | 11x14=154 | 11x15=165 | 11x16=176 | 11x17=187 | 11x18=198 | 11x19=209\n",
            "12x1=12 | 12x2=24 | 12x3=36 | 12x4=48 | 12x5=60 | 12x6=72 | 12x7=84 | 12x8=96 | 12x9=108 | 12x10=120 | 12x11=132 | 12x12=144 | 12x13=156 | 12x14=168 | 12x15=180 | 12x16=192 | 12x17=204 | 12x18=216 | 12x19=228\n",
            "13x1=13 | 13x2=26 | 13x3=39 | 13x4=52 | 13x5=65 | 13x6=78 | 13x7=91 | 13x8=104 | 13x9=117 | 13x10=130 | 13x11=143 | 13x12=156 | 13x13=169 | 13x14=182 | 13x15=195 | 13x16=208 | 13x17=221 | 13x18=234 | 13x19=247\n",
            "14x1=14 | 14x2=28 | 14x3=42 | 14x4=56 | 14x5=70 | 14x6=84 | 14x7=98 | 14x8=112 | 14x9=126 | 14x10=140 | 14x11=154 | 14x12=168 | 14x13=182 | 14x14=196 | 14x15=210 | 14x16=224 | 14x17=238 | 14x18=252 | 14x19=266\n",
            "15x1=15 | 15x2=30 | 15x3=45 | 15x4=60 | 15x5=75 | 15x6=90 | 15x7=105 | 15x8=120 | 15x9=135 | 15x10=150 | 15x11=165 | 15x12=180 | 15x13=195 | 15x14=210 | 15x15=225 | 15x16=240 | 15x17=255 | 15x18=270 | 15x19=285\n",
            "16x1=16 | 16x2=32 | 16x3=48 | 16x4=64 | 16x5=80 | 16x6=96 | 16x7=112 | 16x8=128 | 16x9=144 | 16x10=160 | 16x11=176 | 16x12=192 | 16x13=208 | 16x14=224 | 16x15=240 | 16x16=256 | 16x17=272 | 16x18=288 | 16x19=304\n",
            "17x1=17 | 17x2=34 | 17x3=51 | 17x4=68 | 17x5=85 | 17x6=102 | 17x7=119 | 17x8=136 | 17x9=153 | 17x10=170 | 17x11=187 | 17x12=204 | 17x13=221 | 17x14=238 | 17x15=255 | 17x16=272 | 17x17=289 | 17x18=306 | 17x19=323\n",
            "18x1=18 | 18x2=36 | 18x3=54 | 18x4=72 | 18x5=90 | 18x6=108 | 18x7=126 | 18x8=144 | 18x9=162 | 18x10=180 | 18x11=198 | 18x12=216 | 18x13=234 | 18x14=252 | 18x15=270 | 18x16=288 | 18x17=306 | 18x18=324 | 18x19=342\n",
            "19x1=19 | 19x2=38 | 19x3=57 | 19x4=76 | 19x5=95 | 19x6=114 | 19x7=133 | 19x8=152 | 19x9=171 | 19x10=190 | 19x11=209 | 19x12=228 | 19x13=247 | 19x14=266 | 19x15=285 | 19x16=304 | 19x17=323 | 19x18=342 | 19x19=361\n",
            "20x1=20 | 20x2=40 | 20x3=60 | 20x4=80 | 20x5=100 | 20x6=120 | 20x7=140 | 20x8=160 | 20x9=180 | 20x10=200 | 20x11=220 | 20x12=240 | 20x13=260 | 20x14=280 | 20x15=300 | 20x16=320 | 20x17=340 | 20x18=360 | 20x19=380\n"
          ]
        }
      ]
    },
    {
      "cell_type": "markdown",
      "source": [
        "###시도 ③"
      ],
      "metadata": {
        "id": "fpqxvqvaFVWe"
      },
      "id": "fpqxvqvaFVWe"
    },
    {
      "cell_type": "code",
      "source": [
        "def gugudan_range(start=11, end=20, limit=19): #세 번째 시도\n",
        "    for dan in range(start, end + 1):\n",
        "        print(f\"=== {dan}단 ===\")\n",
        "        for i in range(1, limit + 1):\n",
        "            print(f\"{dan} x {i} = {dan * i}\")\n",
        "        print()\n",
        "\n",
        "# 함수 실행\n",
        "gugudan_range()\n"
      ],
      "metadata": {
        "colab": {
          "base_uri": "https://localhost:8080/"
        },
        "collapsed": true,
        "id": "HwKYLhs93wZ4",
        "outputId": "911da8d4-3563-446c-d129-d91605579071"
      },
      "id": "HwKYLhs93wZ4",
      "execution_count": null,
      "outputs": [
        {
          "output_type": "stream",
          "name": "stdout",
          "text": [
            "=== 11단 ===\n",
            "11 x 1 = 11\n",
            "11 x 2 = 22\n",
            "11 x 3 = 33\n",
            "11 x 4 = 44\n",
            "11 x 5 = 55\n",
            "11 x 6 = 66\n",
            "11 x 7 = 77\n",
            "11 x 8 = 88\n",
            "11 x 9 = 99\n",
            "11 x 10 = 110\n",
            "11 x 11 = 121\n",
            "11 x 12 = 132\n",
            "11 x 13 = 143\n",
            "11 x 14 = 154\n",
            "11 x 15 = 165\n",
            "11 x 16 = 176\n",
            "11 x 17 = 187\n",
            "11 x 18 = 198\n",
            "11 x 19 = 209\n",
            "\n",
            "=== 12단 ===\n",
            "12 x 1 = 12\n",
            "12 x 2 = 24\n",
            "12 x 3 = 36\n",
            "12 x 4 = 48\n",
            "12 x 5 = 60\n",
            "12 x 6 = 72\n",
            "12 x 7 = 84\n",
            "12 x 8 = 96\n",
            "12 x 9 = 108\n",
            "12 x 10 = 120\n",
            "12 x 11 = 132\n",
            "12 x 12 = 144\n",
            "12 x 13 = 156\n",
            "12 x 14 = 168\n",
            "12 x 15 = 180\n",
            "12 x 16 = 192\n",
            "12 x 17 = 204\n",
            "12 x 18 = 216\n",
            "12 x 19 = 228\n",
            "\n",
            "=== 13단 ===\n",
            "13 x 1 = 13\n",
            "13 x 2 = 26\n",
            "13 x 3 = 39\n",
            "13 x 4 = 52\n",
            "13 x 5 = 65\n",
            "13 x 6 = 78\n",
            "13 x 7 = 91\n",
            "13 x 8 = 104\n",
            "13 x 9 = 117\n",
            "13 x 10 = 130\n",
            "13 x 11 = 143\n",
            "13 x 12 = 156\n",
            "13 x 13 = 169\n",
            "13 x 14 = 182\n",
            "13 x 15 = 195\n",
            "13 x 16 = 208\n",
            "13 x 17 = 221\n",
            "13 x 18 = 234\n",
            "13 x 19 = 247\n",
            "\n",
            "=== 14단 ===\n",
            "14 x 1 = 14\n",
            "14 x 2 = 28\n",
            "14 x 3 = 42\n",
            "14 x 4 = 56\n",
            "14 x 5 = 70\n",
            "14 x 6 = 84\n",
            "14 x 7 = 98\n",
            "14 x 8 = 112\n",
            "14 x 9 = 126\n",
            "14 x 10 = 140\n",
            "14 x 11 = 154\n",
            "14 x 12 = 168\n",
            "14 x 13 = 182\n",
            "14 x 14 = 196\n",
            "14 x 15 = 210\n",
            "14 x 16 = 224\n",
            "14 x 17 = 238\n",
            "14 x 18 = 252\n",
            "14 x 19 = 266\n",
            "\n",
            "=== 15단 ===\n",
            "15 x 1 = 15\n",
            "15 x 2 = 30\n",
            "15 x 3 = 45\n",
            "15 x 4 = 60\n",
            "15 x 5 = 75\n",
            "15 x 6 = 90\n",
            "15 x 7 = 105\n",
            "15 x 8 = 120\n",
            "15 x 9 = 135\n",
            "15 x 10 = 150\n",
            "15 x 11 = 165\n",
            "15 x 12 = 180\n",
            "15 x 13 = 195\n",
            "15 x 14 = 210\n",
            "15 x 15 = 225\n",
            "15 x 16 = 240\n",
            "15 x 17 = 255\n",
            "15 x 18 = 270\n",
            "15 x 19 = 285\n",
            "\n",
            "=== 16단 ===\n",
            "16 x 1 = 16\n",
            "16 x 2 = 32\n",
            "16 x 3 = 48\n",
            "16 x 4 = 64\n",
            "16 x 5 = 80\n",
            "16 x 6 = 96\n",
            "16 x 7 = 112\n",
            "16 x 8 = 128\n",
            "16 x 9 = 144\n",
            "16 x 10 = 160\n",
            "16 x 11 = 176\n",
            "16 x 12 = 192\n",
            "16 x 13 = 208\n",
            "16 x 14 = 224\n",
            "16 x 15 = 240\n",
            "16 x 16 = 256\n",
            "16 x 17 = 272\n",
            "16 x 18 = 288\n",
            "16 x 19 = 304\n",
            "\n",
            "=== 17단 ===\n",
            "17 x 1 = 17\n",
            "17 x 2 = 34\n",
            "17 x 3 = 51\n",
            "17 x 4 = 68\n",
            "17 x 5 = 85\n",
            "17 x 6 = 102\n",
            "17 x 7 = 119\n",
            "17 x 8 = 136\n",
            "17 x 9 = 153\n",
            "17 x 10 = 170\n",
            "17 x 11 = 187\n",
            "17 x 12 = 204\n",
            "17 x 13 = 221\n",
            "17 x 14 = 238\n",
            "17 x 15 = 255\n",
            "17 x 16 = 272\n",
            "17 x 17 = 289\n",
            "17 x 18 = 306\n",
            "17 x 19 = 323\n",
            "\n",
            "=== 18단 ===\n",
            "18 x 1 = 18\n",
            "18 x 2 = 36\n",
            "18 x 3 = 54\n",
            "18 x 4 = 72\n",
            "18 x 5 = 90\n",
            "18 x 6 = 108\n",
            "18 x 7 = 126\n",
            "18 x 8 = 144\n",
            "18 x 9 = 162\n",
            "18 x 10 = 180\n",
            "18 x 11 = 198\n",
            "18 x 12 = 216\n",
            "18 x 13 = 234\n",
            "18 x 14 = 252\n",
            "18 x 15 = 270\n",
            "18 x 16 = 288\n",
            "18 x 17 = 306\n",
            "18 x 18 = 324\n",
            "18 x 19 = 342\n",
            "\n",
            "=== 19단 ===\n",
            "19 x 1 = 19\n",
            "19 x 2 = 38\n",
            "19 x 3 = 57\n",
            "19 x 4 = 76\n",
            "19 x 5 = 95\n",
            "19 x 6 = 114\n",
            "19 x 7 = 133\n",
            "19 x 8 = 152\n",
            "19 x 9 = 171\n",
            "19 x 10 = 190\n",
            "19 x 11 = 209\n",
            "19 x 12 = 228\n",
            "19 x 13 = 247\n",
            "19 x 14 = 266\n",
            "19 x 15 = 285\n",
            "19 x 16 = 304\n",
            "19 x 17 = 323\n",
            "19 x 18 = 342\n",
            "19 x 19 = 361\n",
            "\n",
            "=== 20단 ===\n",
            "20 x 1 = 20\n",
            "20 x 2 = 40\n",
            "20 x 3 = 60\n",
            "20 x 4 = 80\n",
            "20 x 5 = 100\n",
            "20 x 6 = 120\n",
            "20 x 7 = 140\n",
            "20 x 8 = 160\n",
            "20 x 9 = 180\n",
            "20 x 10 = 200\n",
            "20 x 11 = 220\n",
            "20 x 12 = 240\n",
            "20 x 13 = 260\n",
            "20 x 14 = 280\n",
            "20 x 15 = 300\n",
            "20 x 16 = 320\n",
            "20 x 17 = 340\n",
            "20 x 18 = 360\n",
            "20 x 19 = 380\n",
            "\n"
          ]
        }
      ]
    },
    {
      "cell_type": "markdown",
      "source": [
        "###시도 ④ : 4번째 시도 끝에 성공했습니다."
      ],
      "metadata": {
        "id": "IzELIblWFhcj"
      },
      "id": "IzELIblWFhcj"
    },
    {
      "cell_type": "code",
      "source": [
        "# -----------------------------------\n",
        "# 4번째 시도 끝에 성공했습니다.\n",
        "# -----------------------------------\n",
        "\n",
        "for dan in range(11, 21):                      # 11단부터 20단\n",
        "    results = [str(dan * i) for i in range(1, 20)]  # 1~19까지 곱한 결과\n",
        "    print(f\"{dan}단: {' '.join(results)}\")     # 한 줄에 출력\n"
      ],
      "metadata": {
        "colab": {
          "base_uri": "https://localhost:8080/"
        },
        "id": "Zgqw4Cc-4KW4",
        "outputId": "7ca486b4-43e3-42df-df5c-5f4da03397c7"
      },
      "id": "Zgqw4Cc-4KW4",
      "execution_count": null,
      "outputs": [
        {
          "output_type": "stream",
          "name": "stdout",
          "text": [
            "11단: 11 22 33 44 55 66 77 88 99 110 121 132 143 154 165 176 187 198 209\n",
            "12단: 12 24 36 48 60 72 84 96 108 120 132 144 156 168 180 192 204 216 228\n",
            "13단: 13 26 39 52 65 78 91 104 117 130 143 156 169 182 195 208 221 234 247\n",
            "14단: 14 28 42 56 70 84 98 112 126 140 154 168 182 196 210 224 238 252 266\n",
            "15단: 15 30 45 60 75 90 105 120 135 150 165 180 195 210 225 240 255 270 285\n",
            "16단: 16 32 48 64 80 96 112 128 144 160 176 192 208 224 240 256 272 288 304\n",
            "17단: 17 34 51 68 85 102 119 136 153 170 187 204 221 238 255 272 289 306 323\n",
            "18단: 18 36 54 72 90 108 126 144 162 180 198 216 234 252 270 288 306 324 342\n",
            "19단: 19 38 57 76 95 114 133 152 171 190 209 228 247 266 285 304 323 342 361\n",
            "20단: 20 40 60 80 100 120 140 160 180 200 220 240 260 280 300 320 340 360 380\n"
          ]
        }
      ]
    },
    {
      "cell_type": "markdown",
      "source": [
        "###시도 ⑤"
      ],
      "metadata": {
        "id": "TFUX3VC1Fj_2"
      },
      "id": "TFUX3VC1Fj_2"
    },
    {
      "cell_type": "code",
      "source": [
        "def gugudan_inline(start=11, end=20, limit=19): #5번째 시도\n",
        "    for dan in range(start, end + 1):\n",
        "        line = [str(dan * i) for i in range(1, limit + 1)]\n",
        "        print(f\"{dan}단: {' '.join(line)}\")\n",
        "\n",
        "# 함수 실행\n",
        "gugudan_inline()\n"
      ],
      "metadata": {
        "colab": {
          "base_uri": "https://localhost:8080/"
        },
        "id": "-A6qe-Bp4N7o",
        "outputId": "443d694b-b9d4-44b1-de0a-7097aed1f79a"
      },
      "id": "-A6qe-Bp4N7o",
      "execution_count": null,
      "outputs": [
        {
          "output_type": "stream",
          "name": "stdout",
          "text": [
            "11단: 11 22 33 44 55 66 77 88 99 110 121 132 143 154 165 176 187 198 209\n",
            "12단: 12 24 36 48 60 72 84 96 108 120 132 144 156 168 180 192 204 216 228\n",
            "13단: 13 26 39 52 65 78 91 104 117 130 143 156 169 182 195 208 221 234 247\n",
            "14단: 14 28 42 56 70 84 98 112 126 140 154 168 182 196 210 224 238 252 266\n",
            "15단: 15 30 45 60 75 90 105 120 135 150 165 180 195 210 225 240 255 270 285\n",
            "16단: 16 32 48 64 80 96 112 128 144 160 176 192 208 224 240 256 272 288 304\n",
            "17단: 17 34 51 68 85 102 119 136 153 170 187 204 221 238 255 272 289 306 323\n",
            "18단: 18 36 54 72 90 108 126 144 162 180 198 216 234 252 270 288 306 324 342\n",
            "19단: 19 38 57 76 95 114 133 152 171 190 209 228 247 266 285 304 323 342 361\n",
            "20단: 20 40 60 80 100 120 140 160 180 200 220 240 260 280 300 320 340 360 380\n"
          ]
        }
      ]
    },
    {
      "cell_type": "markdown",
      "metadata": {
        "id": "c8e5a44c"
      },
      "source": [
        "\n",
        "# 📘 과제 3 — 조건문: 가위바위보 (RPS)\n",
        "\n",
        "---\n",
        "\n",
        "##  과제 설명\n",
        "**목표:**  \n",
        "조건문(`if`, `elif`, `else`)을 활용하여 가위바위보 게임을 구현하시오.  \n",
        "또한, 왜 코드가 이런 구조로 되어 있는지 결과와 함께 **자세히 설명**하시오.\n",
        "\n",
        "---\n",
        "\n",
        "##  기본 규칙\n",
        "- 사용자와 컴퓨터가 각각 **가위, 바위, 보** 중 하나를 선택한다.\n",
        "- 게임 결과는 다음과 같다:\n",
        "  - 가위 > 보  \n",
        "  - 바위 > 가위  \n",
        "  - 보 > 바위  \n",
        "- 같은 선택이면 “무승부”\n",
        "\n",
        "---\n"
      ],
      "id": "c8e5a44c"
    },
    {
      "cell_type": "markdown",
      "metadata": {
        "id": "a53a999b"
      },
      "source": [
        "##  1) if-elif-else 기본형 (강의자료형)"
      ],
      "id": "a53a999b"
    },
    {
      "cell_type": "code",
      "execution_count": null,
      "metadata": {
        "id": "54ce9222",
        "colab": {
          "base_uri": "https://localhost:8080/"
        },
        "outputId": "94c1308d-ded0-42ac-a15f-ecc8328723a5"
      },
      "outputs": [
        {
          "output_type": "stream",
          "name": "stdout",
          "text": [
            "사용자: 가위 | 컴퓨터: 바위 | 결과: 컴퓨터 승\n"
          ]
        }
      ],
      "source": [
        "\n",
        "import random\n",
        "\n",
        "def get_computer_choice(seed=None):\n",
        "    if seed is not None:\n",
        "        random.seed(seed)\n",
        "    return random.choice([\"가위\", \"바위\", \"보\"])\n",
        "\n",
        "def rps_basic(user: str, comp: str):\n",
        "    if user == comp:\n",
        "        return \"무승부\"\n",
        "    elif user == \"가위\":\n",
        "        if comp == \"보\":\n",
        "            return \"사용자 승\"\n",
        "        else:\n",
        "            return \"컴퓨터 승\"\n",
        "    elif user == \"바위\":\n",
        "        if comp == \"가위\":\n",
        "            return \"사용자 승\"\n",
        "        else:\n",
        "            return \"컴퓨터 승\"\n",
        "    elif user == \"보\":\n",
        "        if comp == \"바위\":\n",
        "            return \"사용자 승\"\n",
        "        else:\n",
        "            return \"컴퓨터 승\"\n",
        "    else:\n",
        "        return \"입력 오류\"\n",
        "\n",
        "user, comp = \"가위\", get_computer_choice(seed=0)\n",
        "print(\"사용자:\", user, \"| 컴퓨터:\", comp, \"| 결과:\", rps_basic(user, comp))\n",
        "\n",
        "\n"
      ],
      "id": "54ce9222"
    },
    {
      "cell_type": "markdown",
      "source": [
        "    {\n",
        "      \"cell_type\": \"markdown\",\n",
        "      \"source\": [\n",
        "        \"가위바위보 게임\"\n",
        "      ],\n",
        "      \"metadata\": {\n",
        "        \"id\": \"56ZbBeKKbbUi\"\n",
        "      }\n",
        "    },\n",
        "    {\n",
        "      \"cell_type\": \"code\",\n",
        "      \"source\": [\n",
        "        \"# 유저와 컴퓨터 가위바위보 입력\\n\",\n",
        "        \"user=input(\\\"가위바위보 중 무엇을 낼 것인가요? \\\") # 가위 or 바위 or 보 입력\\n\",\n",
        "        \"from random import * # 랜덤함수를 사용하기 위한 선언\\n\",\n",
        "        \"com=randint(1,3) # 1부터 3까지 무작위 정수 선택\\n\",\n",
        "        \"if com==1: # 1인 경우 컴퓨터는 가위\\n\",\n",
        "        \"  com='가위'\\n\",\n",
        "        \"elif com==2: # 2인 경우 컴퓨터는 바위\\n\",\n",
        "        \"  com='바위'\\n\",\n",
        "        \"else: # 1과 2가 아닌 경우(즉 3인 경우) 컴퓨터는 보\\n\",\n",
        "        \"  com=\\\"보\\\"\\n\",\n",
        "        \"print(f'당신은 {user}, 컴퓨터는 {com} 입니다.') # 선택결과 출력\\n\",\n",
        "        \"\\n\",\n",
        "        \"# 승,패 판단\\n\",\n",
        "        \"if user==com: # 둘이 같은 걸 낸 경우\\n\",\n",
        "        \"  print('비겼습니다.')\\n\",\n",
        "        \"elif user=='가위': # 유저가 가위인 경우\\n\",\n",
        "        \"  if com==\\\"바위\\\":\\n\",\n",
        "        \"    print('컴퓨터가 이겼습니다.')\\n\",\n",
        "        \"  else:\\n\",\n",
        "        \"    print('당신이 이겼습니다.')\\n\",\n",
        "        \"elif user=='바위': # 유저가 바위인 경우\\n\",\n",
        "        \"  if com==\\\"보\\\":\\n\",\n",
        "        \"    print('컴퓨터가 이겼습니다.')\\n\",\n",
        "        \"  else:\\n\",\n",
        "        \"    print('당신이 이겼습니다.')\\n\",\n",
        "        \"elif user=='보': # 유저가 보인 경우\\n\",\n",
        "        \"  if com==\\\"가위\\\":\\n\",\n",
        "        \"    print('컴퓨터가 이겼습니다.')\\n\",\n",
        "        \"  else:\\n\",\n",
        "        \"    print('당신이 이겼습니다.')\\n\",\n",
        "        \"else: # 유저가 가위바위보가 아닌 다른 값을 입력한 경우\\n\",\n",
        "        \"   print('가위바위보 중 선택해야되요!!')\"\n",
        "      ],\n",
        "      \"metadata\": {\n",
        "        \"colab\": {\n",
        "          \"base_uri\": \"https://localhost:8080/\"\n",
        "        },\n",
        "        \"id\": \"NAPk-b1hbdVc\",\n",
        "        \"outputId\": \"0d0001fd-9e4c-420c-facf-5a9127cd41e5\"\n",
        "      },\n",
        "      \"execution_count\": null,\n",
        "      \"outputs\": [\n",
        "        {\n",
        "          \"output_type\": \"stream\",\n",
        "          \"name\": \"stdout\",\n",
        "          \"text\": [\n",
        "            \"가위바위보 중 무엇을 낼 것인가요? 글쎄요\\n\",\n",
        "            \"당신은 글쎄요, 컴퓨터는 바위 입니다.\\n\",\n",
        "            \"가위바위보 중 선택해야되요!!\\n\"\n",
        "          ]\n",
        "        }\n",
        "      ]\n",
        "    }"
      ],
      "metadata": {
        "id": "OLZVIFT3Ae1V"
      },
      "id": "OLZVIFT3Ae1V"
    },
    {
      "cell_type": "markdown",
      "metadata": {
        "id": "a3831ecd"
      },
      "source": [
        "\n",
        "###  설명\n",
        "- 모든 경우를 if문으로 분기한 구조이다.  \n",
        "- 초보자가 프로그램의 흐름을 이해하기 가장 쉽다.  \n",
        "- 하지만 경우의 수가 많아지면 코드가 매우 길어진다.  \n"
      ],
      "id": "a3831ecd"
    },
    {
      "cell_type": "markdown",
      "metadata": {
        "id": "5d7f9e31"
      },
      "source": [
        "## 2) dict 매핑형 (데이터화 구조)"
      ],
      "id": "5d7f9e31"
    },
    {
      "cell_type": "code",
      "execution_count": null,
      "metadata": {
        "id": "95c2a11e"
      },
      "outputs": [],
      "source": [
        "\n",
        "WIN_MAP = {\"가위\": \"보\", \"바위\": \"가위\", \"보\": \"바위\"}\n",
        "\n",
        "def rps_dict(user: str, comp: str):\n",
        "    if user not in WIN_MAP or comp not in WIN_MAP:\n",
        "        return \"입력 오류\"\n",
        "    if user == comp:\n",
        "        return \"무승부\"\n",
        "    return \"사용자 승\" if WIN_MAP[user] == comp else \"컴퓨터 승\"\n",
        "\n",
        "user, comp = \"바위\", get_computer_choice(seed=1)\n",
        "print(\"사용자:\", user, \"| 컴퓨터:\", comp, \"| 결과:\", rps_dict(user, comp))\n"
      ],
      "id": "95c2a11e"
    },
    {
      "cell_type": "markdown",
      "source": [
        "### 설명\n",
        "- 누가 누구를 이기는지 규칙을 **딕셔너리(WIN_MAP)** 로 관리한다.  \n",
        "- 규칙을 바꾸거나 확장할 때 코드를 수정하지 않아도 된다.  \n",
        "- 유지보수가 매우 용이하다.  "
      ],
      "metadata": {
        "id": "dSfXmbos9bve"
      },
      "id": "dSfXmbos9bve"
    },
    {
      "cell_type": "markdown",
      "metadata": {
        "id": "efa48839"
      },
      "source": [
        "##  3) 모듈러 연산형 `(user - comp) % 3` (+알파)"
      ],
      "id": "efa48839"
    },
    {
      "cell_type": "code",
      "execution_count": null,
      "metadata": {
        "id": "462d7fa7"
      },
      "outputs": [],
      "source": [
        "\n",
        "IDX = {\"가위\": 0, \"바위\": 1, \"보\": 2}\n",
        "\n",
        "def rps_mod(user: str, comp: str):\n",
        "    if user not in IDX or comp not in IDX:\n",
        "        return \"입력 오류\"\n",
        "    diff = (IDX[user] - IDX[comp]) % 3\n",
        "    if diff == 0:\n",
        "        return \"무승부\"\n",
        "    elif diff == 1:\n",
        "        return \"사용자 승\"\n",
        "    else:\n",
        "        return \"컴퓨터 승\"\n",
        "\n",
        "user, comp = \"보\", get_computer_choice(seed=2)\n",
        "print(\"사용자:\", user, \"| 컴퓨터:\", comp, \"| 결과:\", rps_mod(user, comp))\n"
      ],
      "id": "462d7fa7"
    },
    {
      "cell_type": "markdown",
      "metadata": {
        "id": "d64f45fb"
      },
      "source": [
        "\n",
        "###  설명\n",
        "- 가위, 바위, 보를 숫자로 표현 (가위=0, 바위=1, 보=2)  \n",
        "- `(user - comp) % 3` 연산 결과로 승패를 결정한다.  \n",
        "  - 0 → 무승부  \n",
        "  - 1 → 사용자 승  \n",
        "  - 2 → 컴퓨터 승  \n",
        "- 코드가 가장 간결하고, 수학적으로 일반화가 가능하다.\n"
      ],
      "id": "d64f45fb"
    },
    {
      "cell_type": "markdown",
      "metadata": {
        "id": "49770c11"
      },
      "source": [
        "##  4) 확장 버전: 유효성 검사 · 다회전 경기 · 점수 집계"
      ],
      "id": "49770c11"
    },
    {
      "cell_type": "code",
      "execution_count": null,
      "metadata": {
        "id": "d0d9abe7"
      },
      "outputs": [],
      "source": [
        "\n",
        "def play_match(rounds=5, method=\"mod\", seed=None):\n",
        "    if seed is not None:\n",
        "        random.seed(seed)\n",
        "    methods = {\"basic\": rps_basic, \"dict\": rps_dict, \"mod\": rps_mod}\n",
        "    judge = methods.get(method, rps_mod)\n",
        "\n",
        "    user_score = comp_score = draw = 0\n",
        "\n",
        "    for r in range(1, rounds + 1):\n",
        "        user = random.choice([\"가위\", \"바위\", \"보\"])  # 실제는 input() 사용 가능\n",
        "        comp = random.choice([\"가위\", \"바위\", \"보\"])\n",
        "        result = judge(user, comp)\n",
        "        print(f\"{r}R) 사용자:{user} vs 컴퓨터:{comp} -> {result}\")\n",
        "\n",
        "        if result == \"사용자 승\":\n",
        "            user_score += 1\n",
        "        elif result == \"컴퓨터 승\":\n",
        "            comp_score += 1\n",
        "        else:\n",
        "            draw += 1\n",
        "\n",
        "    print(f\"요약 결과: 사용자 승 {user_score}, 컴퓨터 승 {comp_score}, 무승부 {draw}\")\n",
        "    if user_score > comp_score:\n",
        "        print(\"최종 승자: 사용자\")\n",
        "    elif user_score < comp_score:\n",
        "        print(\"최종 승자: 컴퓨터\")\n",
        "    else:\n",
        "        print(\"최종 결과: 무승부\")\n",
        "\n",
        "play_match(rounds=5, method=\"mod\", seed=42)\n"
      ],
      "id": "d0d9abe7"
    },
    {
      "cell_type": "markdown",
      "metadata": {
        "id": "b4db145b"
      },
      "source": [
        "\n",
        "---\n",
        "\n",
        "##  설계 이유 요약\n",
        "\n",
        "| 버전 | 핵심 | 장점 | 단점 | 용도 |\n",
        "|------|------|------|------|------|\n",
        "| if-elif-else | 직접 조건 분기 | 코드 흐름이 명확 | 코드 길어짐 | 초보자용, 강의자료형 |\n",
        "| dict 매핑 | 규칙을 데이터로 분리 | 유지보수 쉬움 | 데이터 실수 주의 | 확장형 과제 |\n",
        "| 모듈러 연산 | 수학적 패턴화 | 짧고 간결 | 직관성 낮음 | 최종형, 간결 코드 |\n",
        "\n",
        "---\n",
        "\n",
        "##  추가 설명\n",
        "- **조건문 학습의 목적**: 분기 구조를 시각적으로 이해하기 좋음  \n",
        "- **dict 구조의 장점**: 규칙이 늘어날 때 코드 변경 최소화  \n",
        "- **모듈러 방식의 의미**: 규칙을 수학적으로 일반화하여 논리적 오류를 줄임  \n",
        "- **확장성**: 반복문(`for`, `while`)과 결합해 실전형 프로그램으로 발전 가능\n",
        "\n",
        "---\n",
        "\n",
        "##  테스트 전략\n",
        "-  무승부: `(가위, 가위)`  \n",
        "-  사용자 승: `(보, 바위)`  \n",
        "-  컴퓨터 승: `(가위, 바위)`  \n",
        "-  입력 오류: `(고양이, 보)`\n",
        "\n",
        "---\n",
        "\n",
        "##  확장 아이디어(+알파 점수)\n",
        "- `RPSLS(가위-바위-보-도마뱀-스팍)` 확장 가능  \n",
        "- 입력값 정규화 (`strip()`, 대소문자 구분 제거)  \n",
        "- 점수 저장, 로그 파일 기록  \n",
        "- GUI나 음성 인터페이스로 확장\n"
      ],
      "id": "b4db145b"
    },
    {
      "cell_type": "markdown",
      "source": [],
      "metadata": {
        "id": "gSQcnTarMgvw"
      },
      "id": "gSQcnTarMgvw"
    },
    {
      "cell_type": "markdown",
      "metadata": {
        "id": "3bac7b84"
      },
      "source": [
        "\n",
        "# 📘 과제 4 — 상관관계분석: auto-mpg (연비·무게, 제로백·무게)\n",
        "\n",
        "**목표**\n",
        "1) `auto-mpg.csv`를 불러와 정제  \n",
        "2) **연비(mpg) ↔ 무게(weight)** 상관계수 계산  \n",
        "3) **가속시간(acceleration) ↔ 무게(weight)** 상관계수 계산  \n",
        "4) 두 관계에 대한 **산점도**와 **회귀선**을 각각 1개 그림에 표시 (각 그래프는 개별 Figure)\n",
        "\n"
      ],
      "id": "3bac7b84"
    },
    {
      "cell_type": "markdown",
      "metadata": {
        "id": "442f74c2"
      },
      "source": [
        "## 1) 데이터 불러오기 (comma-separated) 및 정제"
      ],
      "id": "442f74c2"
    },
    {
      "cell_type": "code",
      "execution_count": 16,
      "metadata": {
        "id": "51948418",
        "colab": {
          "base_uri": "https://localhost:8080/",
          "height": 224
        },
        "outputId": "d20af166-6ee4-449d-82e6-ca85e98a78c0"
      },
      "outputs": [
        {
          "output_type": "stream",
          "name": "stdout",
          "text": [
            "정제 후 데이터 크기: (398, 3)\n"
          ]
        },
        {
          "output_type": "execute_result",
          "data": {
            "text/plain": [
              "    mpg  weight  acceleration\n",
              "0  18.0  3504.0          12.0\n",
              "1  15.0  3693.0          11.5\n",
              "2  18.0  3436.0          11.0\n",
              "3  16.0  3433.0          12.0\n",
              "4  17.0  3449.0          10.5"
            ],
            "text/html": [
              "\n",
              "  <div id=\"df-9a470d7f-3ade-454a-9c55-46599872a726\" class=\"colab-df-container\">\n",
              "    <div>\n",
              "<style scoped>\n",
              "    .dataframe tbody tr th:only-of-type {\n",
              "        vertical-align: middle;\n",
              "    }\n",
              "\n",
              "    .dataframe tbody tr th {\n",
              "        vertical-align: top;\n",
              "    }\n",
              "\n",
              "    .dataframe thead th {\n",
              "        text-align: right;\n",
              "    }\n",
              "</style>\n",
              "<table border=\"1\" class=\"dataframe\">\n",
              "  <thead>\n",
              "    <tr style=\"text-align: right;\">\n",
              "      <th></th>\n",
              "      <th>mpg</th>\n",
              "      <th>weight</th>\n",
              "      <th>acceleration</th>\n",
              "    </tr>\n",
              "  </thead>\n",
              "  <tbody>\n",
              "    <tr>\n",
              "      <th>0</th>\n",
              "      <td>18.0</td>\n",
              "      <td>3504.0</td>\n",
              "      <td>12.0</td>\n",
              "    </tr>\n",
              "    <tr>\n",
              "      <th>1</th>\n",
              "      <td>15.0</td>\n",
              "      <td>3693.0</td>\n",
              "      <td>11.5</td>\n",
              "    </tr>\n",
              "    <tr>\n",
              "      <th>2</th>\n",
              "      <td>18.0</td>\n",
              "      <td>3436.0</td>\n",
              "      <td>11.0</td>\n",
              "    </tr>\n",
              "    <tr>\n",
              "      <th>3</th>\n",
              "      <td>16.0</td>\n",
              "      <td>3433.0</td>\n",
              "      <td>12.0</td>\n",
              "    </tr>\n",
              "    <tr>\n",
              "      <th>4</th>\n",
              "      <td>17.0</td>\n",
              "      <td>3449.0</td>\n",
              "      <td>10.5</td>\n",
              "    </tr>\n",
              "  </tbody>\n",
              "</table>\n",
              "</div>\n",
              "    <div class=\"colab-df-buttons\">\n",
              "\n",
              "  <div class=\"colab-df-container\">\n",
              "    <button class=\"colab-df-convert\" onclick=\"convertToInteractive('df-9a470d7f-3ade-454a-9c55-46599872a726')\"\n",
              "            title=\"Convert this dataframe to an interactive table.\"\n",
              "            style=\"display:none;\">\n",
              "\n",
              "  <svg xmlns=\"http://www.w3.org/2000/svg\" height=\"24px\" viewBox=\"0 -960 960 960\">\n",
              "    <path d=\"M120-120v-720h720v720H120Zm60-500h600v-160H180v160Zm220 220h160v-160H400v160Zm0 220h160v-160H400v160ZM180-400h160v-160H180v160Zm440 0h160v-160H620v160ZM180-180h160v-160H180v160Zm440 0h160v-160H620v160Z\"/>\n",
              "  </svg>\n",
              "    </button>\n",
              "\n",
              "  <style>\n",
              "    .colab-df-container {\n",
              "      display:flex;\n",
              "      gap: 12px;\n",
              "    }\n",
              "\n",
              "    .colab-df-convert {\n",
              "      background-color: #E8F0FE;\n",
              "      border: none;\n",
              "      border-radius: 50%;\n",
              "      cursor: pointer;\n",
              "      display: none;\n",
              "      fill: #1967D2;\n",
              "      height: 32px;\n",
              "      padding: 0 0 0 0;\n",
              "      width: 32px;\n",
              "    }\n",
              "\n",
              "    .colab-df-convert:hover {\n",
              "      background-color: #E2EBFA;\n",
              "      box-shadow: 0px 1px 2px rgba(60, 64, 67, 0.3), 0px 1px 3px 1px rgba(60, 64, 67, 0.15);\n",
              "      fill: #174EA6;\n",
              "    }\n",
              "\n",
              "    .colab-df-buttons div {\n",
              "      margin-bottom: 4px;\n",
              "    }\n",
              "\n",
              "    [theme=dark] .colab-df-convert {\n",
              "      background-color: #3B4455;\n",
              "      fill: #D2E3FC;\n",
              "    }\n",
              "\n",
              "    [theme=dark] .colab-df-convert:hover {\n",
              "      background-color: #434B5C;\n",
              "      box-shadow: 0px 1px 3px 1px rgba(0, 0, 0, 0.15);\n",
              "      filter: drop-shadow(0px 1px 2px rgba(0, 0, 0, 0.3));\n",
              "      fill: #FFFFFF;\n",
              "    }\n",
              "  </style>\n",
              "\n",
              "    <script>\n",
              "      const buttonEl =\n",
              "        document.querySelector('#df-9a470d7f-3ade-454a-9c55-46599872a726 button.colab-df-convert');\n",
              "      buttonEl.style.display =\n",
              "        google.colab.kernel.accessAllowed ? 'block' : 'none';\n",
              "\n",
              "      async function convertToInteractive(key) {\n",
              "        const element = document.querySelector('#df-9a470d7f-3ade-454a-9c55-46599872a726');\n",
              "        const dataTable =\n",
              "          await google.colab.kernel.invokeFunction('convertToInteractive',\n",
              "                                                    [key], {});\n",
              "        if (!dataTable) return;\n",
              "\n",
              "        const docLinkHtml = 'Like what you see? Visit the ' +\n",
              "          '<a target=\"_blank\" href=https://colab.research.google.com/notebooks/data_table.ipynb>data table notebook</a>'\n",
              "          + ' to learn more about interactive tables.';\n",
              "        element.innerHTML = '';\n",
              "        dataTable['output_type'] = 'display_data';\n",
              "        await google.colab.output.renderOutput(dataTable, element);\n",
              "        const docLink = document.createElement('div');\n",
              "        docLink.innerHTML = docLinkHtml;\n",
              "        element.appendChild(docLink);\n",
              "      }\n",
              "    </script>\n",
              "  </div>\n",
              "\n",
              "\n",
              "    <div id=\"df-7812afd9-fdb8-4db3-ae28-a0a6f46b4a8f\">\n",
              "      <button class=\"colab-df-quickchart\" onclick=\"quickchart('df-7812afd9-fdb8-4db3-ae28-a0a6f46b4a8f')\"\n",
              "                title=\"Suggest charts\"\n",
              "                style=\"display:none;\">\n",
              "\n",
              "<svg xmlns=\"http://www.w3.org/2000/svg\" height=\"24px\"viewBox=\"0 0 24 24\"\n",
              "     width=\"24px\">\n",
              "    <g>\n",
              "        <path d=\"M19 3H5c-1.1 0-2 .9-2 2v14c0 1.1.9 2 2 2h14c1.1 0 2-.9 2-2V5c0-1.1-.9-2-2-2zM9 17H7v-7h2v7zm4 0h-2V7h2v10zm4 0h-2v-4h2v4z\"/>\n",
              "    </g>\n",
              "</svg>\n",
              "      </button>\n",
              "\n",
              "<style>\n",
              "  .colab-df-quickchart {\n",
              "      --bg-color: #E8F0FE;\n",
              "      --fill-color: #1967D2;\n",
              "      --hover-bg-color: #E2EBFA;\n",
              "      --hover-fill-color: #174EA6;\n",
              "      --disabled-fill-color: #AAA;\n",
              "      --disabled-bg-color: #DDD;\n",
              "  }\n",
              "\n",
              "  [theme=dark] .colab-df-quickchart {\n",
              "      --bg-color: #3B4455;\n",
              "      --fill-color: #D2E3FC;\n",
              "      --hover-bg-color: #434B5C;\n",
              "      --hover-fill-color: #FFFFFF;\n",
              "      --disabled-bg-color: #3B4455;\n",
              "      --disabled-fill-color: #666;\n",
              "  }\n",
              "\n",
              "  .colab-df-quickchart {\n",
              "    background-color: var(--bg-color);\n",
              "    border: none;\n",
              "    border-radius: 50%;\n",
              "    cursor: pointer;\n",
              "    display: none;\n",
              "    fill: var(--fill-color);\n",
              "    height: 32px;\n",
              "    padding: 0;\n",
              "    width: 32px;\n",
              "  }\n",
              "\n",
              "  .colab-df-quickchart:hover {\n",
              "    background-color: var(--hover-bg-color);\n",
              "    box-shadow: 0 1px 2px rgba(60, 64, 67, 0.3), 0 1px 3px 1px rgba(60, 64, 67, 0.15);\n",
              "    fill: var(--button-hover-fill-color);\n",
              "  }\n",
              "\n",
              "  .colab-df-quickchart-complete:disabled,\n",
              "  .colab-df-quickchart-complete:disabled:hover {\n",
              "    background-color: var(--disabled-bg-color);\n",
              "    fill: var(--disabled-fill-color);\n",
              "    box-shadow: none;\n",
              "  }\n",
              "\n",
              "  .colab-df-spinner {\n",
              "    border: 2px solid var(--fill-color);\n",
              "    border-color: transparent;\n",
              "    border-bottom-color: var(--fill-color);\n",
              "    animation:\n",
              "      spin 1s steps(1) infinite;\n",
              "  }\n",
              "\n",
              "  @keyframes spin {\n",
              "    0% {\n",
              "      border-color: transparent;\n",
              "      border-bottom-color: var(--fill-color);\n",
              "      border-left-color: var(--fill-color);\n",
              "    }\n",
              "    20% {\n",
              "      border-color: transparent;\n",
              "      border-left-color: var(--fill-color);\n",
              "      border-top-color: var(--fill-color);\n",
              "    }\n",
              "    30% {\n",
              "      border-color: transparent;\n",
              "      border-left-color: var(--fill-color);\n",
              "      border-top-color: var(--fill-color);\n",
              "      border-right-color: var(--fill-color);\n",
              "    }\n",
              "    40% {\n",
              "      border-color: transparent;\n",
              "      border-right-color: var(--fill-color);\n",
              "      border-top-color: var(--fill-color);\n",
              "    }\n",
              "    60% {\n",
              "      border-color: transparent;\n",
              "      border-right-color: var(--fill-color);\n",
              "    }\n",
              "    80% {\n",
              "      border-color: transparent;\n",
              "      border-right-color: var(--fill-color);\n",
              "      border-bottom-color: var(--fill-color);\n",
              "    }\n",
              "    90% {\n",
              "      border-color: transparent;\n",
              "      border-bottom-color: var(--fill-color);\n",
              "    }\n",
              "  }\n",
              "</style>\n",
              "\n",
              "      <script>\n",
              "        async function quickchart(key) {\n",
              "          const quickchartButtonEl =\n",
              "            document.querySelector('#' + key + ' button');\n",
              "          quickchartButtonEl.disabled = true;  // To prevent multiple clicks.\n",
              "          quickchartButtonEl.classList.add('colab-df-spinner');\n",
              "          try {\n",
              "            const charts = await google.colab.kernel.invokeFunction(\n",
              "                'suggestCharts', [key], {});\n",
              "          } catch (error) {\n",
              "            console.error('Error during call to suggestCharts:', error);\n",
              "          }\n",
              "          quickchartButtonEl.classList.remove('colab-df-spinner');\n",
              "          quickchartButtonEl.classList.add('colab-df-quickchart-complete');\n",
              "        }\n",
              "        (() => {\n",
              "          let quickchartButtonEl =\n",
              "            document.querySelector('#df-7812afd9-fdb8-4db3-ae28-a0a6f46b4a8f button');\n",
              "          quickchartButtonEl.style.display =\n",
              "            google.colab.kernel.accessAllowed ? 'block' : 'none';\n",
              "        })();\n",
              "      </script>\n",
              "    </div>\n",
              "\n",
              "    </div>\n",
              "  </div>\n"
            ],
            "application/vnd.google.colaboratory.intrinsic+json": {
              "type": "dataframe",
              "variable_name": "use",
              "summary": "{\n  \"name\": \"use\",\n  \"rows\": 398,\n  \"fields\": [\n    {\n      \"column\": \"mpg\",\n      \"properties\": {\n        \"dtype\": \"number\",\n        \"std\": 7.815984312565782,\n        \"min\": 9.0,\n        \"max\": 46.6,\n        \"num_unique_values\": 129,\n        \"samples\": [\n          17.7,\n          30.5,\n          30.0\n        ],\n        \"semantic_type\": \"\",\n        \"description\": \"\"\n      }\n    },\n    {\n      \"column\": \"weight\",\n      \"properties\": {\n        \"dtype\": \"number\",\n        \"std\": 846.8417741973271,\n        \"min\": 1613.0,\n        \"max\": 5140.0,\n        \"num_unique_values\": 351,\n        \"samples\": [\n          3730.0,\n          1995.0,\n          2215.0\n        ],\n        \"semantic_type\": \"\",\n        \"description\": \"\"\n      }\n    },\n    {\n      \"column\": \"acceleration\",\n      \"properties\": {\n        \"dtype\": \"number\",\n        \"std\": 2.7576889298126757,\n        \"min\": 8.0,\n        \"max\": 24.8,\n        \"num_unique_values\": 95,\n        \"samples\": [\n          14.7,\n          18.0,\n          14.3\n        ],\n        \"semantic_type\": \"\",\n        \"description\": \"\"\n      }\n    }\n  ]\n}"
            }
          },
          "metadata": {},
          "execution_count": 16
        }
      ],
      "source": [
        "\n",
        "import pandas as pd\n",
        "import numpy as np\n",
        "import matplotlib.pyplot as plt\n",
        "\n",
        "names = [\"mpg\",\"cylinders\",\"displacement\",\"horsepower\",\n",
        "         \"weight\",\"acceleration\",\"model_year\",\"origin\",\"car_name\"]\n",
        "\n",
        "# Colab 업로드 후 경로를 맞추세요\n",
        "df = pd.read_csv(\"/content/auto-mpg.csv\", header=None, names=names)\n",
        "\n",
        "# 숫자형 변환\n",
        "for col in [\"mpg\",\"cylinders\",\"displacement\",\"horsepower\",\"weight\",\"acceleration\",\"model_year\",\"origin\"]:\n",
        "    df[col] = pd.to_numeric(df[col], errors=\"coerce\")\n",
        "\n",
        "use = df[[\"mpg\",\"weight\",\"acceleration\"]].dropna()\n",
        "print(\"정제 후 데이터 크기:\", use.shape)\n",
        "use.head()\n"
      ],
      "id": "51948418"
    },
    {
      "cell_type": "markdown",
      "metadata": {
        "id": "da447aa3"
      },
      "source": [
        "## 2) 상관계수 계산"
      ],
      "id": "da447aa3"
    },
    {
      "cell_type": "code",
      "execution_count": 17,
      "metadata": {
        "id": "b2816e09",
        "colab": {
          "base_uri": "https://localhost:8080/"
        },
        "outputId": "6686ca0a-17aa-4915-8114-5a073c3af044"
      },
      "outputs": [
        {
          "output_type": "stream",
          "name": "stdout",
          "text": [
            "연비(mpg) ↔ 무게(weight) 상관계수: -0.8317\n",
            "가속시간(acceleration) ↔ 무게(weight) 상관계수: -0.4175\n"
          ]
        }
      ],
      "source": [
        "\n",
        "corr_mpg_weight = use[\"mpg\"].corr(use[\"weight\"])\n",
        "corr_acc_weight = use[\"acceleration\"].corr(use[\"weight\"])\n",
        "print(f\"연비(mpg) ↔ 무게(weight) 상관계수: {corr_mpg_weight:.4f}\")\n",
        "print(f\"가속시간(acceleration) ↔ 무게(weight) 상관계수: {corr_acc_weight:.4f}\")\n"
      ],
      "id": "b2816e09"
    },
    {
      "cell_type": "markdown",
      "metadata": {
        "id": "79c6688c"
      },
      "source": [
        "## 3) 산점도: 무게 vs 연비 (회귀선 포함)"
      ],
      "id": "79c6688c"
    },
    {
      "cell_type": "code",
      "execution_count": 18,
      "metadata": {
        "id": "2a851c67",
        "colab": {
          "base_uri": "https://localhost:8080/",
          "height": 472
        },
        "outputId": "342b5980-c7c6-481a-ea21-d9f0cb97ae15"
      },
      "outputs": [
        {
          "output_type": "display_data",
          "data": {
            "text/plain": [
              "<Figure size 640x480 with 1 Axes>"
            ],
            "image/png": "[encoded data removed]"
          },
          "metadata": {}
        }
      ],
      "source": [
        "\n",
        "import numpy as np\n",
        "import matplotlib.pyplot as plt\n",
        "\n",
        "plt.figure()\n",
        "plt.scatter(use[\"weight\"], use[\"mpg\"], alpha=0.6)\n",
        "m, b = np.polyfit(use[\"weight\"], use[\"mpg\"], 1)\n",
        "xs = np.linspace(use[\"weight\"].min(), use[\"weight\"].max(), 200)\n",
        "ys = m * xs + b\n",
        "plt.plot(xs, ys)\n",
        "plt.xlabel(\"Weight\")\n",
        "plt.ylabel(\"MPG\")\n",
        "plt.title(\"Weight vs MPG\")\n",
        "plt.show()\n"
      ],
      "id": "2a851c67"
    },
    {
      "cell_type": "markdown",
      "metadata": {
        "id": "b46639b0"
      },
      "source": [
        "## 4) 산점도: 무게 vs 가속시간 (회귀선 포함)"
      ],
      "id": "b46639b0"
    },
    {
      "cell_type": "code",
      "execution_count": 19,
      "metadata": {
        "id": "7b2bf7bb",
        "colab": {
          "base_uri": "https://localhost:8080/",
          "height": 472
        },
        "outputId": "c3d133e7-72eb-4b2e-e293-43bbdc42ef59"
      },
      "outputs": [
        {
          "output_type": "display_data",
          "data": {
            "text/plain": [
              "<Figure size 640x480 with 1 Axes>"
            ],
            "image/png": "[encoded data removed]"
          },
          "metadata": {}
        }
      ],
      "source": [
        "\n",
        "plt.figure()\n",
        "plt.scatter(use[\"weight\"], use[\"acceleration\"], alpha=0.6)\n",
        "m2, b2 = np.polyfit(use[\"weight\"], use[\"acceleration\"], 1)\n",
        "xs2 = np.linspace(use[\"weight\"].min(), use[\"weight\"].max(), 200)\n",
        "ys2 = m2 * xs2 + b2\n",
        "plt.plot(xs2, ys2)\n",
        "plt.xlabel(\"Weight\")\n",
        "plt.ylabel(\"Acceleration (0-60 mph time)\")\n",
        "plt.title(\"Weight vs Acceleration\")\n",
        "plt.show()\n"
      ],
      "id": "7b2bf7bb"
    },
    {
      "cell_type": "markdown",
      "metadata": {
        "id": "1e1d8891"
      },
      "source": [
        "\n",
        "## 5) 결과 해석\n",
        "- 연비 vs 무게: 음의 상관 → 무게가 늘수록 연비가 감소\n",
        "- 제로백 vs 무게: 양의 상관 → 무게가 늘수록 가속시간이 증가(느려짐)\n"
      ],
      "id": "1e1d8891"
    }
  ],
  "metadata": {
    "colab": {
      "provenance": []
    },
    "language_info": {
      "name": "python"
    },
    "kernelspec": {
      "name": "python3",
      "display_name": "Python 3"
    }
  },
  "nbformat": 4,
  "nbformat_minor": 5
}